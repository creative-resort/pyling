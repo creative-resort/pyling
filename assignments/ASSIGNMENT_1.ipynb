{
 "cells": [
  {
   "cell_type": "markdown",
   "metadata": {},
   "source": [
    "# NB: This assignment is not ready for downloading! \n",
    "\n",
    "I'm still working on it :)"
   ]
  },
  {
   "cell_type": "markdown",
   "metadata": {},
   "source": [
    "# Exercise 1\n",
    "## Text analysis with variables, types, booleans, conditionals"
   ]
  },
  {
   "cell_type": "markdown",
   "metadata": {},
   "source": [
    "## Warm-up"
   ]
  },
  {
   "cell_type": "markdown",
   "metadata": {},
   "source": [
    "Combine these two strings using variables."
   ]
  },
  {
   "cell_type": "code",
   "execution_count": null,
   "metadata": {},
   "outputs": [],
   "source": [
    "'μῆνιν ἄειδε θεὰ Πηληϊάδεω ' \n",
    "'Ἀχιλῆος οὐλομένην'"
   ]
  },
  {
   "cell_type": "markdown",
   "metadata": {},
   "source": [
    "Write code that shows the number of times the letter \"e\" appears in the text below."
   ]
  },
  {
   "cell_type": "code",
   "execution_count": 34,
   "metadata": {},
   "outputs": [],
   "source": [
    "virgil = 'Arma virumque canō, Trōiae quī prīmus ab ōrīs'"
   ]
  },
  {
   "cell_type": "markdown",
   "metadata": {},
   "source": [
    "Change the code below so that it prints the statement after the colon (:) on a separate line. "
   ]
  },
  {
   "cell_type": "code",
   "execution_count": null,
   "metadata": {},
   "outputs": [],
   "source": [
    "print('Fair is foul, and foul is fair: Hover through the fog and filthy air.')"
   ]
  },
  {
   "cell_type": "markdown",
   "metadata": {},
   "source": [
    "## 1. Basic Statistics from Strings\n",
    "\n",
    "Below you see an excerpt of the first lines of Beowulf. Examine the various features of the text. For instance, we can see punctuation, and newlines. We can also see Old English characters.\n",
    "\n",
    "Write code that calculates the following statistics from the text:\n",
    "\n",
    "1. Store the number of sentences and display the answer within a statement (e.g. \"The number of sentences is blank\"). *hint: think about punctuation*\n",
    "2. Store the number of lines and display the answer within a statement.\n",
    "3. Display within a statement how many more lines there are than sentences.\n",
    "4. What is the [ratio](https://www.mathsisfun.com/numbers/ratio.html) of lines to sentences? Display this in a statement as a decimal.\n",
    "\n",
    "[Beowulf source](https://www.poetryfoundation.org/poems/43521/beowulf-old-english-version)"
   ]
  },
  {
   "cell_type": "code",
   "execution_count": null,
   "metadata": {},
   "outputs": [],
   "source": [
    "'''\\\n",
    "Hwæt. We Gardena in geardagum, \n",
    "þeodcyninga, þrym gefrunon, \n",
    "hu ða æþelingas ellen fremedon. \n",
    "Oft Scyld Scefing sceaþena þreatum, \n",
    "monegum mægþum, meodosetla ofteah, \n",
    "egsode eorlas. Syððan ærest wearð \n",
    "feasceaft funden, he þæs frofre gebad, \n",
    "weox under wolcnum, weorðmyndum þah, \n",
    "oðþæt him æghwylc þara ymbsittendra \n",
    "ofer hronrade hyran scolde, \n",
    "gomban gyldan. þæt wæs god cyning. \n",
    "ðæm eafera wæs æfter cenned, \n",
    "geong in geardum, þone god sende \n",
    "folce to frofre; fyrenðearfe ongeat \n",
    "þe hie ær drugon aldorlease \n",
    "lange hwile. Him þæs liffrea, \n",
    "wuldres wealdend, woroldare forgeaf; \n",
    "Beowulf wæs breme blæd wide sprang, \n",
    "Scyldes eafera Scedelandum in. \n",
    "Swa sceal geong guma gode gewyrcean, \n",
    "fromum feohgiftum on fæder bearme, \n",
    "þæt hine on ylde eft gewunigen \n",
    "wilgesiþas, þonne wig cume, \n",
    "leode gelæsten; lofdædum sceal \n",
    "in mægþa gehwære man geþeon. \n",
    "Him ða Scyld gewat to gescæphwile \n",
    "felahror feran on frean wære. \n",
    "Hi hyne þa ætbæron to brimes faroðe, \n",
    "swæse gesiþas, swa he selfa bæd, \n",
    "þenden wordum weold wine Scyldinga; \n",
    "leof landfruma lange ahte. \n",
    "þær æt hyðe stod hringedstefna, \n",
    "isig ond utfus, æþelinges fær. \n",
    "Aledon þa leofne þeoden, \n",
    "beaga bryttan, on bearm scipes, \n",
    "mærne be mæste. þær wæs madma fela \n",
    "of feorwegum, frætwa, gelæded; \n",
    "ne hyrde ic cymlicor ceol gegyrwan \n",
    "hildewæpnum ond heaðowædum, \n",
    "billum ond byrnum; him on bearme læg \n",
    "madma mænigo, þa him mid scoldon \n",
    "on flodes æht feor gewitan. \n",
    "Nalæs hi hine læssan lacum teodan, \n",
    "þeodgestreonum, þon þa dydon \n",
    "þe hine æt frumsceafte forð onsendon \n",
    "ænne ofer yðe umborwesende. \n",
    "þa gyt hie him asetton segen geldenne \n",
    "heah ofer heafod, leton holm beran, \n",
    "geafon on garsecg; him wæs geomor sefa, \n",
    "murnende mod. Men ne cunnon \n",
    "secgan to soðe, selerædende, \n",
    "hæleð under heofenum, hwa þæm hlæste onfeng.\\\n",
    "'''"
   ]
  },
  {
   "cell_type": "code",
   "execution_count": null,
   "metadata": {},
   "outputs": [],
   "source": []
  }
 ],
 "metadata": {
  "kernelspec": {
   "display_name": "Python 3",
   "language": "python",
   "name": "python3"
  },
  "language_info": {
   "codemirror_mode": {
    "name": "ipython",
    "version": 3
   },
   "file_extension": ".py",
   "mimetype": "text/x-python",
   "name": "python",
   "nbconvert_exporter": "python",
   "pygments_lexer": "ipython3",
   "version": "3.8.0"
  }
 },
 "nbformat": 4,
 "nbformat_minor": 4
}
