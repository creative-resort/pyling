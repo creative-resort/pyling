{
 "cells": [
  {
   "cell_type": "markdown",
   "metadata": {},
   "source": [
    "# Assignment 1 – variables, types, booleans, conditionals\n",
    "\n",
    "**Questions? Drop em in the Slack under #questions**\n",
    "\n",
    "## Introduction: Operationalizing Linguistic Research\n",
    "\n",
    "Often in the humanities we deal with subjective concepts, things which are not directly measurable. Linguistics, though, sits somewhere on the border of subjective and objective. In quantitative linguistics, we try to use objective data to clarify issues once thought to be only subjective. In doing so, we have to learn how to \"operationalize\" our research questions. \n",
    "\n",
    "To operationalize means to condense a complex question into a simpler one that can be addressed with empirical data (Stefanowitsch 2010). It's possible that we lose some nuance in the process. But we also enable progress to be made within a specific niche. An accumulation of this progress eventually allows us to re-evaluate our theoretical starting point. \n",
    "\n",
    "Consider, for instance, the following two research questions:\n",
    "\n",
    "> (1) In world languages, does the verb serve as the syntactic head of the sentence?\n",
    "\n",
    "> (2) In world languages, how predictive is a verb for other arguments in a sentence?\n",
    "\n",
    "The first question is a largely subjective one, which linguists continue to disagree on (e.g. Croft, *Radical Construction Grammar*, 2001). There is no way to test that hypothesis with only empirical data. \n",
    "\n",
    "The second question, on the other hand, can be answered with some Python, linguistic annotations, and a knowledge of statistics. And even though the answer to that question is simpler, it still has broader implications for more subjective questions.\n",
    "\n",
    "\n",
    "<img src=\"../images/research_operationalization.png\" height=500px width=500px>\n",
    "\n",
    "<center><i>From question, to Python, to data, to theories</i></center>\n",
    "\n",
    "**Further reading**\\\n",
    "[Anatol Stefanowitsch. 2010. \"Empirical Cognitive Semantics\"](https://pdfs.semanticscholar.org/5237/c136ec1f1c09c42b7fb9ffc7b36a5f217489.pdf#page=364)\n",
    "\n",
    "<hr>\n",
    "\n",
    "## Exercise Brief: From Strings to Integers\n",
    "\n",
    "In the following exercises, we will practise miniature operationalizations, wherein we convert a small linguistic question into Python code that produces counts from which we can form theories. In Pythonic terms, we move from strings to integers.\n",
    "\n",
    "Bsides strings and integers, the following exercises will also test your knowledge of booleans and conditionals."
   ]
  },
  {
   "cell_type": "markdown",
   "metadata": {},
   "source": [
    "## Warm-up"
   ]
  },
  {
   "cell_type": "markdown",
   "metadata": {},
   "source": [
    "Combine these two strings using variables."
   ]
  },
  {
   "cell_type": "code",
   "execution_count": null,
   "metadata": {},
   "outputs": [],
   "source": [
    "'μῆνιν ἄειδε θεὰ Πηληϊάδεω ' \n",
    "'Ἀχιλῆος οὐλομένην'"
   ]
  },
  {
   "cell_type": "markdown",
   "metadata": {},
   "source": [
    "Write code that shows the number of times the letter \"e\" appears in the text below."
   ]
  },
  {
   "cell_type": "code",
   "execution_count": 34,
   "metadata": {},
   "outputs": [],
   "source": [
    "virgil = 'Arma virumque canō, Trōiae quī prīmus ab ōrīs'"
   ]
  },
  {
   "cell_type": "markdown",
   "metadata": {},
   "source": [
    "Change the code below so that it prints the statement after the colon (:) on a separate line. "
   ]
  },
  {
   "cell_type": "code",
   "execution_count": null,
   "metadata": {},
   "outputs": [],
   "source": [
    "print('Fair is foul, and foul is fair: Hover through the fog and filthy air.')"
   ]
  },
  {
   "cell_type": "markdown",
   "metadata": {},
   "source": [
    "## Exercise 1. Basic Statistics from Strings\n",
    "\n",
    "Below you see an excerpt of the first lines of Beowulf. Examine the various features of the text. For instance, we can see punctuation, and newlines. We can also see Old English characters.\n",
    "\n",
    "Write code that calculates the following statistics from the text:\n",
    "\n",
    "1. Store the number of sentences and display the answer within a statement (e.g. \"The number of sentences is blank\"). *hint: think about punctuation*\n",
    "2. Store the number of lines and display the answer within a statement.\n",
    "3. Display within a statement how many more lines there are than sentences.\n",
    "4. What is the [ratio](https://www.mathsisfun.com/numbers/ratio.html) of lines to sentences? Display this in a statement as a decimal.\n",
    "\n",
    "[Beowulf source](https://www.poetryfoundation.org/poems/43521/beowulf-old-english-version)"
   ]
  },
  {
   "cell_type": "code",
   "execution_count": null,
   "metadata": {},
   "outputs": [],
   "source": [
    "'''\\\n",
    "Hwæt. We Gardena in geardagum, \n",
    "þeodcyninga, þrym gefrunon, \n",
    "hu ða æþelingas ellen fremedon. \n",
    "Oft Scyld Scefing sceaþena þreatum, \n",
    "monegum mægþum, meodosetla ofteah, \n",
    "egsode eorlas. Syððan ærest wearð \n",
    "feasceaft funden, he þæs frofre gebad, \n",
    "weox under wolcnum, weorðmyndum þah, \n",
    "oðþæt him æghwylc þara ymbsittendra \n",
    "ofer hronrade hyran scolde, \n",
    "gomban gyldan. þæt wæs god cyning. \n",
    "ðæm eafera wæs æfter cenned, \n",
    "geong in geardum, þone god sende \n",
    "folce to frofre; fyrenðearfe ongeat \n",
    "þe hie ær drugon aldorlease \n",
    "lange hwile. Him þæs liffrea, \n",
    "wuldres wealdend, woroldare forgeaf; \n",
    "Beowulf wæs breme blæd wide sprang, \n",
    "Scyldes eafera Scedelandum in. \n",
    "Swa sceal geong guma gode gewyrcean, \n",
    "fromum feohgiftum on fæder bearme, \n",
    "þæt hine on ylde eft gewunigen \n",
    "wilgesiþas, þonne wig cume, \n",
    "leode gelæsten; lofdædum sceal \n",
    "in mægþa gehwære man geþeon. \n",
    "Him ða Scyld gewat to gescæphwile \n",
    "felahror feran on frean wære. \n",
    "Hi hyne þa ætbæron to brimes faroðe, \n",
    "swæse gesiþas, swa he selfa bæd, \n",
    "þenden wordum weold wine Scyldinga; \n",
    "leof landfruma lange ahte. \n",
    "þær æt hyðe stod hringedstefna, \n",
    "isig ond utfus, æþelinges fær. \n",
    "Aledon þa leofne þeoden, \n",
    "beaga bryttan, on bearm scipes, \n",
    "mærne be mæste. þær wæs madma fela \n",
    "of feorwegum, frætwa, gelæded; \n",
    "ne hyrde ic cymlicor ceol gegyrwan \n",
    "hildewæpnum ond heaðowædum, \n",
    "billum ond byrnum; him on bearme læg \n",
    "madma mænigo, þa him mid scoldon \n",
    "on flodes æht feor gewitan. \n",
    "Nalæs hi hine læssan lacum teodan, \n",
    "þeodgestreonum, þon þa dydon \n",
    "þe hine æt frumsceafte forð onsendon \n",
    "ænne ofer yðe umborwesende. \n",
    "þa gyt hie him asetton segen geldenne \n",
    "heah ofer heafod, leton holm beran, \n",
    "geafon on garsecg; him wæs geomor sefa, \n",
    "murnende mod. Men ne cunnon \n",
    "secgan to soðe, selerædende, \n",
    "hæleð under heofenum, hwa þæm hlæste onfeng.\\\n",
    "'''"
   ]
  },
  {
   "cell_type": "code",
   "execution_count": null,
   "metadata": {},
   "outputs": [],
   "source": []
  }
 ],
 "metadata": {
  "kernelspec": {
   "display_name": "Python 3",
   "language": "python",
   "name": "python3"
  },
  "language_info": {
   "codemirror_mode": {
    "name": "ipython",
    "version": 3
   },
   "file_extension": ".py",
   "mimetype": "text/x-python",
   "name": "python",
   "nbconvert_exporter": "python",
   "pygments_lexer": "ipython3",
   "version": "3.8.0"
  }
 },
 "nbformat": 4,
 "nbformat_minor": 4
}
