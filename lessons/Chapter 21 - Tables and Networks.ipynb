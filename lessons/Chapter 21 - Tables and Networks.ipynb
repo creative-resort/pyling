{
 "cells": [
  {
   "cell_type": "markdown",
   "metadata": {},
   "source": [
    "# Chapter 20 - Tables and Networks\n",
    "\n",
    "In the previous chapter we looked into various types of charts and correlations that are useful for scientific analysis in Python. Here, we present two more groups of visualizations: tables and networks. We will spend little attention to these, since they are less/not useful for the final assignment; however, note that they are still often a useful visualization options in practice.\n",
    "\n",
    "**At the end of this chapter, you will be able to:**\n",
    "- Create formatted tables\n",
    "- Create networks\n",
    "\n",
    "**This requires that you already have (some) knowledge about:**\n",
    "- Loading and manipulating data.\n",
    "\n",
    "**If you want to learn more about these topics, you might find the following links useful:**\n",
    "- List of visualization blogs: https://flowingdata.com/2012/04/27/data-and-visualization-blogs-worth-following/"
   ]
  },
  {
   "cell_type": "code",
   "execution_count": null,
   "metadata": {
    "collapsed": true
   },
   "outputs": [],
   "source": [
    "%matplotlib inline\n"
   ]
  },
  {
   "cell_type": "markdown",
   "metadata": {},
   "source": [
    "## 1. Tables\n",
    "\n",
    "There are (at least) two ways to output your data as a formatted table:\n",
    "\n",
    "* Using the `tabulate` package. (You might need to install it first, using `conda install tabulate`)\n",
    "* Using the `pandas` dataframe method `df.to_latex(...)`, `df.to_string(...)`, or even `df.to_clipboard(...)`.\n",
    "\n",
    "This is extremely useful if you're writing a paper. First version of the 'results' section: done!\n",
    "\n",
    "**Option 1: Tabulate**"
   ]
  },
  {
   "cell_type": "code",
   "execution_count": null,
   "metadata": {
    "collapsed": true
   },
   "outputs": [],
   "source": [
    "from tabulate import tabulate\n",
    "\n",
    "table = [[\"spam\",42],[\"eggs\",451],[\"bacon\",0]]\n",
    "headers = [\"item\", \"qty\"]\n",
    "\n",
    "# Documentation: https://pypi.python.org/pypi/tabulate\n",
    "print(tabulate(table, headers, tablefmt=\"latex_booktabs\"))"
   ]
  },
  {
   "cell_type": "markdown",
   "metadata": {},
   "source": [
    "**Option 2: Pandas DataFrames**"
   ]
  },
  {
   "cell_type": "code",
   "execution_count": null,
   "metadata": {
    "collapsed": true
   },
   "outputs": [],
   "source": [
    "import pandas as pd\n",
    "\n",
    "# Documentation: http://pandas.pydata.org/pandas-docs/stable/generated/pandas.DataFrame.html\n",
    "df = pd.DataFrame(data=table, columns=headers)\n",
    "print(df.to_latex(index=False))"
   ]
  },
  {
   "cell_type": "markdown",
   "metadata": {},
   "source": [
    "Once you've produced your LaTeX table, it's *almost* ready to put in your paper. If you're writing an NLP paper and your table contains scores for different system outputs, you might want to make the best scores **bold**, so that they stand out from the other numbers in the table."
   ]
  },
  {
   "cell_type": "markdown",
   "metadata": {},
   "source": [
    "**More to explore**\n",
    "\n",
    "The `pandas` library is *really* useful if you work with a lot of data (we'll also use it below). As Jake Vanderplas said in the [State of the tools](https://www.youtube.com/watch?v=5GlNDD7qbP4) video, the `pandas` DataFrame is becoming the central format in the Python ecosystem. [Here](http://pandas.pydata.org/pandas-docs/stable/tutorials.html) is a page with `pandas` tutorials."
   ]
  },
  {
   "cell_type": "code",
   "execution_count": null,
   "metadata": {
    "collapsed": true
   },
   "outputs": [],
   "source": []
  },
  {
   "cell_type": "markdown",
   "metadata": {},
   "source": [
    "## 2. Networks\n",
    "\n",
    "Some data is best visualized as a network. There are several options out there for doing this. The easiest is to use the NetworkX library and either plot the network using Matplotlib, or export it to JSON or GEXF (Graph EXchange Format) and visualize the network using external tools.\n",
    "\n",
    "Let's explore a bit of WordNet today. For this, we'll want to import the NetworkX library, as well as the WordNet module. We'll look at the first synset for *dog*: `dog.n.01`, and how it's positioned in the WordNet taxonomy. All credits for this idea go to [this blog](http://www.randomhacks.net/2009/12/29/visualizing-wordnet-relationships-as-graphs/)."
   ]
  },
  {
   "cell_type": "code",
   "execution_count": null,
   "metadata": {
    "collapsed": true
   },
   "outputs": [],
   "source": [
    "import networkx as nx # You might need to install networkx first (conda install -c anaconda networkx)\n",
    "from nltk.corpus import wordnet as wn\n",
    "from nltk.util import bigrams # This is a useful function."
   ]
  },
  {
   "cell_type": "markdown",
   "metadata": {},
   "source": [
    "Networks are made up out of *edges*: connections between *nodes* (also called *vertices*). To build a graph of the WordNet-taxonomy, we need to generate a set of edges. This is what the function below does."
   ]
  },
  {
   "cell_type": "code",
   "execution_count": null,
   "metadata": {
    "collapsed": true
   },
   "outputs": [],
   "source": [
    "def hypernym_edges(synset):\n",
    "    \"\"\"\n",
    "    Function that generates a set of edges \n",
    "    based on the path between the synset and entity.n.01\n",
    "    \"\"\"\n",
    "    edges = set()\n",
    "    for path in synset.hypernym_paths():\n",
    "        synset_names = [s.name() for s in path]\n",
    "        # bigrams turns a list of arbitrary length into tuples: [(0,1),(1,2),(2,3),...]\n",
    "        # edges.update adds novel edges to the set.\n",
    "        edges.update(bigrams(synset_names))\n",
    "    return edges"
   ]
  },
  {
   "cell_type": "code",
   "execution_count": null,
   "metadata": {
    "collapsed": true
   },
   "outputs": [],
   "source": [
    "# Use the synset 'dog.n.01'\n",
    "dog = wn.synset('dog.n.01')\n",
    "\n",
    "# Generate a set of edges connecting the synset for 'dog' to the root node (entity.n.01)\n",
    "edges = hypernym_edges(dog)\n",
    "\n",
    "# Create a graph object.\n",
    "G = nx.Graph()\n",
    "\n",
    "# Add all the edges that we generated earlier.\n",
    "G.add_edges_from(edges)"
   ]
  },
  {
   "cell_type": "markdown",
   "metadata": {},
   "source": [
    "Now we can actually start drawing the graph. We'll increase the figure size, and use the `draw_spring` method (that implements the Fruchterman-Reingold layout algorithm)."
   ]
  },
  {
   "cell_type": "code",
   "execution_count": null,
   "metadata": {
    "collapsed": true
   },
   "outputs": [],
   "source": [
    "# Increasing figure size for better display of the graph.\n",
    "from pylab import rcParams\n",
    "rcParams['figure.figsize'] = 11, 11\n",
    "\n",
    "# Draw the actual graph.\n",
    "nx.draw_spring(G,with_labels=True)"
   ]
  },
  {
   "cell_type": "markdown",
   "metadata": {},
   "source": [
    "What is interesting about this is that there is a *cycle* in the graph! This is because *dog* has two hypernyms, and those hypernyms are both superseded (directly or indirectly) by *animal.n.01*.\n",
    "\n",
    "What is not so good is that the graph looks pretty ugly: there are several crossing edges, which is totally unnecessary. There are better layouts implemented in NetworkX, but they do require you to install `pygraphviz`. Once you've done that, you can execute the next cell. (And if not, then just assume it looks much prettier!)"
   ]
  },
  {
   "cell_type": "code",
   "execution_count": null,
   "metadata": {
    "collapsed": true
   },
   "outputs": [],
   "source": [
    "# Install pygraphviz first: pip install pygraphviz\n",
    "from networkx.drawing.nx_agraph import graphviz_layout\n",
    "\n",
    "# Let's add 'cat' to the bunch as well.\n",
    "cat = wn.synset('cat.n.01')\n",
    "cat_edges = hypernym_edges(cat)\n",
    "G.add_edges_from(cat_edges)\n",
    "\n",
    "# Use the graphviz layout. First compute the node positions..\n",
    "positioning = graphviz_layout(G)\n",
    "\n",
    "# And then pass node positions to the drawing function.\n",
    "nx.draw_networkx(G,pos=positioning)"
   ]
  },
  {
   "cell_type": "markdown",
   "metadata": {
    "collapsed": true
   },
   "source": [
    "**Question**\n",
    "\n",
    "How do dogs differ from cats, according to WordNet?"
   ]
  },
  {
   "cell_type": "markdown",
   "metadata": {},
   "source": [
    "Answer:"
   ]
  },
  {
   "cell_type": "markdown",
   "metadata": {},
   "source": [
    "**Question**\n",
    "\n",
    "Can you think of any data other than WordNet-synsets that could be visualized as a network?"
   ]
  },
  {
   "cell_type": "markdown",
   "metadata": {},
   "source": [
    "Answer:"
   ]
  },
  {
   "cell_type": "markdown",
   "metadata": {
    "collapsed": true
   },
   "source": [
    "**More to explore**\n",
    "\n",
    "* Python's network visualization tools are fairly limited (though we haven't really explored Pygraphviz (and Graphviz itself is able to create [examples like these](http://www.graphviz.org/Gallery.php))). It's usually easier to export the graph to GEXF and visualize it using [Gephi](https://gephi.org/) or [SigmaJS](http://sigmajs.org/). Gephi also features plugins, which enable you to create interactive visualizations. See [here](https://github.com/evanmiltenburg/dm-graphs/) for code and a link to a demo that Emiel made.\n",
    "\n",
    "* For analyzing graphs, it is better to use either Gephi, or the [python-louvain](http://perso.crans.org/aynaud/communities/) library, which enables you to cluster nodes in a network.\n",
    "\n",
    "* Some of the map-making libraries listed above also provide some cool functionality to create graphs on a map. This is nice to visualize e.g. relations between countries."
   ]
  },
  {
   "cell_type": "code",
   "execution_count": null,
   "metadata": {
    "collapsed": true
   },
   "outputs": [],
   "source": []
  },
  {
   "cell_type": "markdown",
   "metadata": {},
   "source": [
    "## 3. Maps\n",
    "\n",
    "Maps are a *huge* subject that we won't cover in this course. If you are interested, you can take a look into the Basemap module."
   ]
  }
 ],
 "metadata": {
  "kernelspec": {
   "display_name": "Python 3",
   "language": "python",
   "name": "python3"
  },
  "language_info": {
   "codemirror_mode": {
    "name": "ipython",
    "version": 3
   },
   "file_extension": ".py",
   "mimetype": "text/x-python",
   "name": "python",
   "nbconvert_exporter": "python",
   "pygments_lexer": "ipython3",
   "version": "3.6.6"
  }
 },
 "nbformat": 4,
 "nbformat_minor": 2
}
